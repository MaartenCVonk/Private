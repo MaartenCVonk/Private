{
  "nbformat": 4,
  "nbformat_minor": 0,
  "metadata": {
    "colab": {
      "name": "Application Integer Programming Scorito Top Coach",
      "provenance": [],
      "collapsed_sections": []
    },
    "kernelspec": {
      "display_name": "Python 3",
      "name": "python3"
    },
    "language_info": {
      "name": "python"
    }
  },
  "cells": [
    {
      "cell_type": "markdown",
      "metadata": {
        "id": "VDXssG2tk_KR"
      },
      "source": [
        "## **Summary**"
      ]
    },
    {
      "cell_type": "markdown",
      "metadata": {
        "id": "JNgw8a0SlEf3"
      },
      "source": [
        "This Notebook implements an integer program solution to scorito Top Coach team selection halfway Season 2021/2022 to optimize the number of obtained points so far given budgetary and other costraints. Data is extracted from Scorito API's and the integer program is solved using Pulp package. Limitations considered are budgetary constraints, max players per team and max players per positions. Bench and grandstand scoring features have not been included but can be easily implemented.\n",
        "\n",
        "Notebook is structured as follows:\n",
        "- Relevant installs, imports and settings are installed in the first part.\n",
        "- Data is extracted from Scorito API's. You can find the API's in the network tab at the topcoach website. An API's is extracted for the players scores per week and the results are summed over all the weeks. The total score is then calculated by summing over all the different score categories. This dataset is merged with the pricelist of players. The merge is not one-to-one because some players have left and some have joined the club.\n",
        "- Relevant data for integer porgramming are sent to dictionairies to allow easy access from pulp. The objective function and the constraints are formalized. The optimal team is the result.\n",
        "\n",
        "Optimal Team:\n",
        "- R. Pasveer\n",
        "- M. Branderhorst\n",
        "\n",
        "- D. Blind\n",
        "- J. Timber\n",
        "- N. Mazraoui\n",
        "- R. Pröpper\n",
        "- T. Malacia\n",
        "\n",
        "- B. Ramselaar\n",
        "- J. Bruijn\n",
        "- R. Maulun\n",
        "- S. Bakari\n",
        "- S. Tronstad\n",
        "- T. Halilovic\n",
        "\n",
        "- D. Limnios \n",
        "- I. Kallon\n",
        "- J. Odgaard\n",
        "- R. Oratmangoen\n",
        "- M. Seuntjens\n"
      ]
    },
    {
      "cell_type": "markdown",
      "source": [
        "## **Installs, Imports and Settings**"
      ],
      "metadata": {
        "id": "3bYINvO-iEom"
      }
    },
    {
      "cell_type": "code",
      "metadata": {
        "id": "khcE6z7gFUHU"
      },
      "source": [
        "!pip install pulp &> /dev/nul"
      ],
      "execution_count": 163,
      "outputs": []
    },
    {
      "cell_type": "code",
      "metadata": {
        "id": "9KXSwpQ1FplI"
      },
      "source": [
        "import seaborn as sns\n",
        "import numpy as np\n",
        "import pandas as pd\n",
        "import matplotlib.pyplot as plt\n",
        "import math\n",
        "import requests\n",
        "import pulp\n",
        "from pulp import *"
      ],
      "execution_count": 167,
      "outputs": []
    },
    {
      "cell_type": "code",
      "source": [
        "pd.set_option('display.max_columns', 500)\n",
        "pd.set_option('display.max_rows', 50)\n",
        "pd.options.display.float_format = '{:,.4f}'.format\n",
        "pd.options.display.max_colwidth = 100 #To see all feature names completely"
      ],
      "metadata": {
        "id": "peoIv9Bris3W"
      },
      "execution_count": 165,
      "outputs": []
    },
    {
      "cell_type": "code",
      "source": [
        "# Change default plot size\n",
        "plt.rcParams['figure.figsize'] = (15, 7)\n",
        "\n",
        "# Set display settings\n",
        "rc = {'lines.linewidth': 2, 'font.sans-serif': ['DejaVu Sans']}\n",
        "sns.set_context('notebook', rc=rc, font_scale=1.25)\n",
        "sns.set_style('whitegrid', rc=rc)"
      ],
      "metadata": {
        "id": "fNE2X5OAit5V"
      },
      "execution_count": 166,
      "outputs": []
    },
    {
      "cell_type": "markdown",
      "metadata": {
        "id": "FHXXtS_TK_-r"
      },
      "source": [
        "## **Extraction Data and Preprocessing Data**"
      ]
    },
    {
      "cell_type": "code",
      "metadata": {
        "id": "lMHWVt9Nn8SE"
      },
      "source": [
        "# Look for network tab at https://www.scorito.com/footballmanager/180 to find API's\n",
        "\n",
        "#Get player points (unfortunately only available per round, so we sum the rounds manually: round 1 = 3283, round 18 = 3300)\n",
        "player_scores = pd.DataFrame()\n",
        "for i in range(3283,3301):\n",
        "  URL = \"https://football.scorito.com/footballmanager/v1.0/playerpoints/marketround/\"+str(i)\n",
        "  page = requests.get(URL)\n",
        "  result = pd.json_normalize(page.json(), \"Content\")\n",
        "  player_scores = pd.concat([player_scores, result]).groupby(['PlayerId']).sum().reset_index()\n",
        "\n",
        "# Get player costs\n",
        "URL = \"https://football.scorito.com/footballmanager/v1.0/players/marketround/3301\" \n",
        "page = requests.get(URL)\n",
        "player_costs = pd.json_normalize(page.json(), \"Content\")\n",
        "\n",
        "\n",
        "player_scores['Total_score'] = player_scores[['PointsAssist','PointsDraw','PointsGoal','PointsHattrick','PointsKeptZero','PointsMissedpenalty',\n",
        "                                              'PointsOwngoal','PointsPlaytime','PointsRedcarddirect','PointsSavedpenalty','PointsTwogoalsagainst',\n",
        "                                              'PointsWins','PointsYellowcard']].sum(axis=1)\n",
        "\n",
        "#Merge costs and scores:\n",
        "data = player_costs.merge(player_scores, how='left', on='PlayerId') # Some players do not have cost cause they have been sold"
      ],
      "execution_count": 81,
      "outputs": []
    },
    {
      "cell_type": "code",
      "source": [
        "# Data is aligned with Scorito Scores (see Scorito)\n",
        "data.sort_values(by='Total_score',ascending=False).head(5)"
      ],
      "metadata": {
        "colab": {
          "base_uri": "https://localhost:8080/",
          "height": 339
        },
        "id": "LVmgaB2q6pzZ",
        "outputId": "42ab94d5-9fbb-4706-8e33-feac6dc4abd0"
      },
      "execution_count": 78,
      "outputs": [
        {
          "output_type": "execute_result",
          "data": {
            "text/html": [
              "\n",
              "  <div id=\"df-c6ea8649-dd9c-4520-b3e8-9527ccdfdd28\">\n",
              "    <div class=\"colab-df-container\">\n",
              "      <div>\n",
              "<style scoped>\n",
              "    .dataframe tbody tr th:only-of-type {\n",
              "        vertical-align: middle;\n",
              "    }\n",
              "\n",
              "    .dataframe tbody tr th {\n",
              "        vertical-align: top;\n",
              "    }\n",
              "\n",
              "    .dataframe thead th {\n",
              "        text-align: right;\n",
              "    }\n",
              "</style>\n",
              "<table border=\"1\" class=\"dataframe\">\n",
              "  <thead>\n",
              "    <tr style=\"text-align: right;\">\n",
              "      <th></th>\n",
              "      <th>FullName</th>\n",
              "      <th>LastName</th>\n",
              "      <th>NameShort</th>\n",
              "      <th>PlayerId</th>\n",
              "      <th>Position</th>\n",
              "      <th>Price</th>\n",
              "      <th>TeamId</th>\n",
              "      <th>AvailabilityStatus</th>\n",
              "      <th>ValueChangeType</th>\n",
              "      <th>PointsAssist</th>\n",
              "      <th>PointsDraw</th>\n",
              "      <th>PointsGoal</th>\n",
              "      <th>PointsHattrick</th>\n",
              "      <th>PointsKeptZero</th>\n",
              "      <th>PointsMissedpenalty</th>\n",
              "      <th>PointsOwngoal</th>\n",
              "      <th>PointsPlaytime</th>\n",
              "      <th>PointsRedcarddirect</th>\n",
              "      <th>PointsSavedpenalty</th>\n",
              "      <th>PointsTwogoalsagainst</th>\n",
              "      <th>PointsWins</th>\n",
              "      <th>PointsYellowcard</th>\n",
              "      <th>Total_score</th>\n",
              "    </tr>\n",
              "  </thead>\n",
              "  <tbody>\n",
              "    <tr>\n",
              "      <th>94</th>\n",
              "      <td>Noussair Mazraoui</td>\n",
              "      <td>Mazraoui</td>\n",
              "      <td>N. Mazraoui</td>\n",
              "      <td>19852</td>\n",
              "      <td>2</td>\n",
              "      <td>5000000</td>\n",
              "      <td>1</td>\n",
              "      <td>0</td>\n",
              "      <td>1</td>\n",
              "      <td>96.0000</td>\n",
              "      <td>12.0000</td>\n",
              "      <td>384.0000</td>\n",
              "      <td>0.0000</td>\n",
              "      <td>576.0000</td>\n",
              "      <td>0.0000</td>\n",
              "      <td>0.0000</td>\n",
              "      <td>504.0000</td>\n",
              "      <td>0.0000</td>\n",
              "      <td>0.0000</td>\n",
              "      <td>0.0000</td>\n",
              "      <td>198.0000</td>\n",
              "      <td>-24.0000</td>\n",
              "      <td>1,746.0000</td>\n",
              "    </tr>\n",
              "    <tr>\n",
              "      <th>98</th>\n",
              "      <td>Jurrien Timber</td>\n",
              "      <td>Timber</td>\n",
              "      <td>J. Timber</td>\n",
              "      <td>26422</td>\n",
              "      <td>2</td>\n",
              "      <td>4500000</td>\n",
              "      <td>1</td>\n",
              "      <td>0</td>\n",
              "      <td>1</td>\n",
              "      <td>48.0000</td>\n",
              "      <td>18.0000</td>\n",
              "      <td>192.0000</td>\n",
              "      <td>0.0000</td>\n",
              "      <td>672.0000</td>\n",
              "      <td>0.0000</td>\n",
              "      <td>0.0000</td>\n",
              "      <td>612.0000</td>\n",
              "      <td>0.0000</td>\n",
              "      <td>0.0000</td>\n",
              "      <td>-24.0000</td>\n",
              "      <td>216.0000</td>\n",
              "      <td>0.0000</td>\n",
              "      <td>1,734.0000</td>\n",
              "    </tr>\n",
              "    <tr>\n",
              "      <th>198</th>\n",
              "      <td>Guus Til</td>\n",
              "      <td>Til</td>\n",
              "      <td>G. Til</td>\n",
              "      <td>13902</td>\n",
              "      <td>4</td>\n",
              "      <td>6000000</td>\n",
              "      <td>2</td>\n",
              "      <td>0</td>\n",
              "      <td>1</td>\n",
              "      <td>80.0000</td>\n",
              "      <td>18.0000</td>\n",
              "      <td>800.0000</td>\n",
              "      <td>0.0000</td>\n",
              "      <td>216.0000</td>\n",
              "      <td>0.0000</td>\n",
              "      <td>0.0000</td>\n",
              "      <td>504.0000</td>\n",
              "      <td>0.0000</td>\n",
              "      <td>0.0000</td>\n",
              "      <td>-72.0000</td>\n",
              "      <td>216.0000</td>\n",
              "      <td>-48.0000</td>\n",
              "      <td>1,714.0000</td>\n",
              "    </tr>\n",
              "    <tr>\n",
              "      <th>91</th>\n",
              "      <td>Daley Blind</td>\n",
              "      <td>Blind</td>\n",
              "      <td>D. Blind</td>\n",
              "      <td>332</td>\n",
              "      <td>2</td>\n",
              "      <td>4500000</td>\n",
              "      <td>1</td>\n",
              "      <td>0</td>\n",
              "      <td>1</td>\n",
              "      <td>96.0000</td>\n",
              "      <td>18.0000</td>\n",
              "      <td>96.0000</td>\n",
              "      <td>0.0000</td>\n",
              "      <td>672.0000</td>\n",
              "      <td>0.0000</td>\n",
              "      <td>0.0000</td>\n",
              "      <td>576.0000</td>\n",
              "      <td>0.0000</td>\n",
              "      <td>0.0000</td>\n",
              "      <td>-24.0000</td>\n",
              "      <td>216.0000</td>\n",
              "      <td>0.0000</td>\n",
              "      <td>1,650.0000</td>\n",
              "    </tr>\n",
              "    <tr>\n",
              "      <th>202</th>\n",
              "      <td>Bryan Linssen</td>\n",
              "      <td>Linssen</td>\n",
              "      <td>B. Linssen</td>\n",
              "      <td>309</td>\n",
              "      <td>8</td>\n",
              "      <td>5000000</td>\n",
              "      <td>2</td>\n",
              "      <td>0</td>\n",
              "      <td>1</td>\n",
              "      <td>160.0000</td>\n",
              "      <td>18.0000</td>\n",
              "      <td>768.0000</td>\n",
              "      <td>0.0000</td>\n",
              "      <td>0.0000</td>\n",
              "      <td>0.0000</td>\n",
              "      <td>0.0000</td>\n",
              "      <td>476.0000</td>\n",
              "      <td>0.0000</td>\n",
              "      <td>0.0000</td>\n",
              "      <td>0.0000</td>\n",
              "      <td>198.0000</td>\n",
              "      <td>-48.0000</td>\n",
              "      <td>1,572.0000</td>\n",
              "    </tr>\n",
              "  </tbody>\n",
              "</table>\n",
              "</div>\n",
              "      <button class=\"colab-df-convert\" onclick=\"convertToInteractive('df-c6ea8649-dd9c-4520-b3e8-9527ccdfdd28')\"\n",
              "              title=\"Convert this dataframe to an interactive table.\"\n",
              "              style=\"display:none;\">\n",
              "        \n",
              "  <svg xmlns=\"http://www.w3.org/2000/svg\" height=\"24px\"viewBox=\"0 0 24 24\"\n",
              "       width=\"24px\">\n",
              "    <path d=\"M0 0h24v24H0V0z\" fill=\"none\"/>\n",
              "    <path d=\"M18.56 5.44l.94 2.06.94-2.06 2.06-.94-2.06-.94-.94-2.06-.94 2.06-2.06.94zm-11 1L8.5 8.5l.94-2.06 2.06-.94-2.06-.94L8.5 2.5l-.94 2.06-2.06.94zm10 10l.94 2.06.94-2.06 2.06-.94-2.06-.94-.94-2.06-.94 2.06-2.06.94z\"/><path d=\"M17.41 7.96l-1.37-1.37c-.4-.4-.92-.59-1.43-.59-.52 0-1.04.2-1.43.59L10.3 9.45l-7.72 7.72c-.78.78-.78 2.05 0 2.83L4 21.41c.39.39.9.59 1.41.59.51 0 1.02-.2 1.41-.59l7.78-7.78 2.81-2.81c.8-.78.8-2.07 0-2.86zM5.41 20L4 18.59l7.72-7.72 1.47 1.35L5.41 20z\"/>\n",
              "  </svg>\n",
              "      </button>\n",
              "      \n",
              "  <style>\n",
              "    .colab-df-container {\n",
              "      display:flex;\n",
              "      flex-wrap:wrap;\n",
              "      gap: 12px;\n",
              "    }\n",
              "\n",
              "    .colab-df-convert {\n",
              "      background-color: #E8F0FE;\n",
              "      border: none;\n",
              "      border-radius: 50%;\n",
              "      cursor: pointer;\n",
              "      display: none;\n",
              "      fill: #1967D2;\n",
              "      height: 32px;\n",
              "      padding: 0 0 0 0;\n",
              "      width: 32px;\n",
              "    }\n",
              "\n",
              "    .colab-df-convert:hover {\n",
              "      background-color: #E2EBFA;\n",
              "      box-shadow: 0px 1px 2px rgba(60, 64, 67, 0.3), 0px 1px 3px 1px rgba(60, 64, 67, 0.15);\n",
              "      fill: #174EA6;\n",
              "    }\n",
              "\n",
              "    [theme=dark] .colab-df-convert {\n",
              "      background-color: #3B4455;\n",
              "      fill: #D2E3FC;\n",
              "    }\n",
              "\n",
              "    [theme=dark] .colab-df-convert:hover {\n",
              "      background-color: #434B5C;\n",
              "      box-shadow: 0px 1px 3px 1px rgba(0, 0, 0, 0.15);\n",
              "      filter: drop-shadow(0px 1px 2px rgba(0, 0, 0, 0.3));\n",
              "      fill: #FFFFFF;\n",
              "    }\n",
              "  </style>\n",
              "\n",
              "      <script>\n",
              "        const buttonEl =\n",
              "          document.querySelector('#df-c6ea8649-dd9c-4520-b3e8-9527ccdfdd28 button.colab-df-convert');\n",
              "        buttonEl.style.display =\n",
              "          google.colab.kernel.accessAllowed ? 'block' : 'none';\n",
              "\n",
              "        async function convertToInteractive(key) {\n",
              "          const element = document.querySelector('#df-c6ea8649-dd9c-4520-b3e8-9527ccdfdd28');\n",
              "          const dataTable =\n",
              "            await google.colab.kernel.invokeFunction('convertToInteractive',\n",
              "                                                     [key], {});\n",
              "          if (!dataTable) return;\n",
              "\n",
              "          const docLinkHtml = 'Like what you see? Visit the ' +\n",
              "            '<a target=\"_blank\" href=https://colab.research.google.com/notebooks/data_table.ipynb>data table notebook</a>'\n",
              "            + ' to learn more about interactive tables.';\n",
              "          element.innerHTML = '';\n",
              "          dataTable['output_type'] = 'display_data';\n",
              "          await google.colab.output.renderOutput(dataTable, element);\n",
              "          const docLink = document.createElement('div');\n",
              "          docLink.innerHTML = docLinkHtml;\n",
              "          element.appendChild(docLink);\n",
              "        }\n",
              "      </script>\n",
              "    </div>\n",
              "  </div>\n",
              "  "
            ],
            "text/plain": [
              "              FullName  LastName    NameShort  PlayerId  Position    Price  \\\n",
              "94   Noussair Mazraoui  Mazraoui  N. Mazraoui     19852         2  5000000   \n",
              "98      Jurrien Timber    Timber    J. Timber     26422         2  4500000   \n",
              "198           Guus Til       Til       G. Til     13902         4  6000000   \n",
              "91         Daley Blind     Blind     D. Blind       332         2  4500000   \n",
              "202      Bryan Linssen   Linssen   B. Linssen       309         8  5000000   \n",
              "\n",
              "     TeamId  AvailabilityStatus  ValueChangeType  PointsAssist  PointsDraw  \\\n",
              "94        1                   0                1       96.0000     12.0000   \n",
              "98        1                   0                1       48.0000     18.0000   \n",
              "198       2                   0                1       80.0000     18.0000   \n",
              "91        1                   0                1       96.0000     18.0000   \n",
              "202       2                   0                1      160.0000     18.0000   \n",
              "\n",
              "     PointsGoal  PointsHattrick  PointsKeptZero  PointsMissedpenalty  \\\n",
              "94     384.0000          0.0000        576.0000               0.0000   \n",
              "98     192.0000          0.0000        672.0000               0.0000   \n",
              "198    800.0000          0.0000        216.0000               0.0000   \n",
              "91      96.0000          0.0000        672.0000               0.0000   \n",
              "202    768.0000          0.0000          0.0000               0.0000   \n",
              "\n",
              "     PointsOwngoal  PointsPlaytime  PointsRedcarddirect  PointsSavedpenalty  \\\n",
              "94          0.0000        504.0000               0.0000              0.0000   \n",
              "98          0.0000        612.0000               0.0000              0.0000   \n",
              "198         0.0000        504.0000               0.0000              0.0000   \n",
              "91          0.0000        576.0000               0.0000              0.0000   \n",
              "202         0.0000        476.0000               0.0000              0.0000   \n",
              "\n",
              "     PointsTwogoalsagainst  PointsWins  PointsYellowcard  Total_score  \n",
              "94                  0.0000    198.0000          -24.0000   1,746.0000  \n",
              "98                -24.0000    216.0000            0.0000   1,734.0000  \n",
              "198               -72.0000    216.0000          -48.0000   1,714.0000  \n",
              "91                -24.0000    216.0000            0.0000   1,650.0000  \n",
              "202                 0.0000    198.0000          -48.0000   1,572.0000  "
            ]
          },
          "metadata": {},
          "execution_count": 78
        }
      ]
    },
    {
      "cell_type": "code",
      "source": [
        "# Some players do not have results for every game so we need to replace missing data by 0\n",
        "data.fillna(0, inplace=True)\n",
        "\n",
        "# Map position and club data from ID:\n",
        "clubmapping = {10: 'FC Twente', 3: 'FC Groningen',21:'Go Ahead Eagles',2 : 'Feyenoord',22:'SC Cambuur',6: 'NEC', 20: 'PEC Zwolle', 692:'Fortuna Sittard',11:'FC Utrecht',\n",
        "               4:'SC Heerenveen', 7:'PSV', 12:'Vitesse',8:'RKC Waalwijk',351:'Sparta Rotterdam',14:'Heracles Almelo', 19:'Willem II', 13: 'AZ', 1:'Ajax'}\n",
        "\n",
        "positionmapping = {1:'Keeper', 2:'Defender', 4:'Midfielder',8:'Forwarder'}\n",
        "\n",
        "data['Team'] = data['TeamId'].map(clubmapping)\n",
        "data['Position_name'] = data['Position'].map(positionmapping)"
      ],
      "metadata": {
        "id": "jElete-G8Khp"
      },
      "execution_count": 87,
      "outputs": []
    },
    {
      "cell_type": "markdown",
      "source": [
        "## **Integer Programming**"
      ],
      "metadata": {
        "id": "jFlY17mC_mFo"
      }
    },
    {
      "cell_type": "markdown",
      "source": [
        "We formulate the objective to maximize the sum of the number of points have received so far, not taking into account scoring for subs and. "
      ],
      "metadata": {
        "id": "bqkpQOG4cykU"
      }
    },
    {
      "cell_type": "markdown",
      "metadata": {
        "id": "rDUqkel_LLkZ"
      },
      "source": [
        "Integer linear program: <br>\n",
        "$$\\begin{eqnarray}\n",
        "\\text{max } && \\sum_{j\\in J}  p_j x_{j}\\\\\n",
        "\\text{subject to } && \\sum_{j\\in J} c_{j}x_{j} \\leq 48.000.000 && (1) \\\\\n",
        "&& \\sum_{t\\in T} x_{t} \\leq 4 & \\forall \\text{ Team }  T & (2) \\\\\n",
        "&& \\sum_{p\\in P} x_{p} \\leq b_p & \\forall \\text{ Position }  P & (3) \\\\\n",
        "\\end{eqnarray}$$\n",
        "\n",
        "Here,\n",
        "- (1) The budgetary constraint.\n",
        "- (2) The maximum players per team constraint.\n",
        "- (3) The maximum players per position ($b_p$) constraint where \n",
        "    - $b_{keeper}=2$\n",
        "    - $b_{defender}=5$  \n",
        "    - $b_{midfielder}=6$\n",
        "    - $b_{forwarder}=5$."
      ]
    },
    {
      "cell_type": "code",
      "source": [
        "# Put the data needed for integer programming in dictionaries. Use player ID as index.\n",
        "points = dict(zip(data.NameShort, data.Total_score))\n",
        "prices = dict(zip(data.NameShort, data.Price))\n",
        "\n",
        "# Select Players per Team and position\n",
        "players_per_team = data.groupby('TeamId')['NameShort'].apply(list).reset_index()\n",
        "position_per_team = data.groupby('Position')['NameShort'].apply(list).reset_index()\n",
        "\n",
        "teams = dict(zip(players_per_team.TeamId, players_per_team.NameShort)) \n",
        "position = dict(zip(position_per_team.Position, position_per_team.NameShort))\n",
        "\n",
        "# Put the data needed for integer programming in dictionaries. Use player ID as index.\n",
        "players = data.PlayerId.to_list()\n",
        "player_names = data.NameShort.to_list()"
      ],
      "metadata": {
        "id": "kl3pc_sSKu7P"
      },
      "execution_count": 155,
      "outputs": []
    },
    {
      "cell_type": "code",
      "metadata": {
        "colab": {
          "base_uri": "https://localhost:8080/",
          "height": 72
        },
        "id": "Xu9Pk5OAJ-Mf",
        "outputId": "83e6fb99-36f2-4d38-fcb3-48b46e09d4e9"
      },
      "source": [
        "# Creates the boundless Variables as Integers\n",
        "vars = LpVariable.dicts('', player_names, 0, 1, LpInteger)\n",
        "\n",
        "# Creates the 'prob' variable to contain the problem data\n",
        "prob = LpProblem(\"Maximum Player Points Problem\", LpMaximize)\n",
        "\n",
        "# Creates the objective function\n",
        "prob += lpSum([vars[a] * points[a] for a in player_names]), \"Maximize the total points\"\n",
        "\n",
        "# Set constraints on available money\n",
        "prob += lpSum([vars[a] * prices[a] for a in player_names]) <= 48000000 \n",
        "\n",
        "# Set maximum constraint of 4 players per team\n",
        "for i in data.TeamId.unique():\n",
        "  prob += lpSum([vars[a] for a in teams[i]]) <= 4 \n",
        "\n",
        "# Select 2 keepers, 5 defenders, 6 midfielders, 5 forwarders (Is also constraint on number of total players)\n",
        "prob += lpSum([vars[a] for a in position[1]]) == 2\n",
        "prob += lpSum([vars[a] for a in position[2]]) == 5\n",
        "prob += lpSum([vars[a] for a in position[4]]) == 6\n",
        "prob += lpSum([vars[a] for a in position[8]]) == 5\n",
        "\n",
        "\n",
        "# Solve ILP via Gurobi\n",
        "prob.solve()"
      ],
      "execution_count": 161,
      "outputs": [
        {
          "output_type": "stream",
          "name": "stderr",
          "text": [
            "/usr/local/lib/python3.7/dist-packages/pulp/pulp.py:1352: UserWarning: Spaces are not permitted in the name. Converted to '_'\n",
            "  warnings.warn(\"Spaces are not permitted in the name. Converted to '_'\")\n"
          ]
        },
        {
          "output_type": "execute_result",
          "data": {
            "image/png": "[encoded data removed]",
            "text/latex": "$\\displaystyle 1$",
            "text/plain": [
              "1"
            ]
          },
          "metadata": {},
          "execution_count": 161
        }
      ]
    },
    {
      "cell_type": "code",
      "source": [
        "for variable in prob.variables():\n",
        "    if variable.varValue > 0:\n",
        "      print (\"{} = {}\".format(variable.name, variable.varValue))\n",
        "print(\"Total Points = \", value(prob.objective))\n",
        "print(LpStatus[prob.status])"
      ],
      "metadata": {
        "colab": {
          "base_uri": "https://localhost:8080/"
        },
        "id": "uLpglQ3LPdcB",
        "outputId": "419f4d40-dca4-4031-d045-2288e7ac5d99"
      },
      "execution_count": 162,
      "outputs": [
        {
          "output_type": "stream",
          "name": "stdout",
          "text": [
            "_B._Ramselaar = 1.0\n",
            "_D._Blind = 1.0\n",
            "_D._Limnios = 1.0\n",
            "_I._Kallon = 1.0\n",
            "_J._Bruijn = 1.0\n",
            "_J._Odgaard = 1.0\n",
            "_J._Timber = 1.0\n",
            "_M._Branderhorst = 1.0\n",
            "_M._Seuntjens = 1.0\n",
            "_N._Mazraoui = 1.0\n",
            "_R._Maulun = 1.0\n",
            "_R._Oratmangoen = 1.0\n",
            "_R._Pasveer = 1.0\n",
            "_R._Pröpper = 1.0\n",
            "_S._Bakari = 1.0\n",
            "_S._Tronstad = 1.0\n",
            "_T._Halilovic = 1.0\n",
            "_T._Malacia = 1.0\n",
            "Total Points =  20072.0\n",
            "Optimal\n"
          ]
        }
      ]
    }
  ]
}